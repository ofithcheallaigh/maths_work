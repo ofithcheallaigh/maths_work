{
 "cells": [
  {
   "cell_type": "markdown",
   "metadata": {},
   "source": [
    "# Chapter 2\n",
    "## Vectors, Part 1\n",
    "\n",
    "Vectors provide the foundations upon which all of linear algebra is built.     \n",
    "\n",
    "### Creating and visualising vectors in numpy\n",
    "In learn algebra, a vector is an ordered list of numbers. Vectors have several important characteristics -- the first two we will start with are:    \n",
    "- **Dimensionality**: The number of numbers in the vector.    \n",
    "- **Orientation**: Whether the vector is in *column orientation* (standing up tall) or *row orientation* (laying flat and wide).    \n",
    "\n",
    "Dimensionality is often indicated using the following symbol: $\\mathbb{R}^N$, where $\\R$ indicates real-valued numbers (c.f. $\\mathbb{C}$ for complex-valued numbers) and the $^N$ indicates the dimensionality. For example, a vector with 2 elements is said to be a member of $\\mathbb{R}^2$.    \n",
    "\n",
    "Some examples of column and row \n",
    "\n",
    "\\begin{equation*}\n",
    "\\textbf{x} = \n",
    "\\begin{bmatrix}\n",
    "1 \\\\ \n",
    "4 \\\\\n",
    "5 \\\\\n",
    "6\n",
    "\\end{bmatrix},\n",
    "\n",
    "\\textbf{y} = \n",
    "\\begin{bmatrix}\n",
    ".3 \\\\\n",
    "-7\n",
    "\\end{bmatrix},\n",
    "\n",
    "\\textbf{z} = \n",
    "\\begin{bmatrix}\n",
    "1 & 4 & 5 & 6\n",
    "\\end{bmatrix}\n",
    "\n",
    "\\end{equation*}\n",
    "\n",
    "It is important to note that while **x** and **z** contain the same elements, they are not the same vectors. The **x** vector is a 4-dimenjsional column vector, **y** is a 2D column vector, and **z** is a 4D row vector. We could also write a vector as $\\textbf{x} \\in \\R^4$, where $\\in$ means \"is a member of\". \n",
    "\n",
    "When referring to vectors, it is common to use lower-case bold Roman letters, like **v** for \"vector v\". It is also common that some tests will use the arrow notation $\\vec{p}$.\n",
    "\n",
    "Vectors in python can be represented using several data types. The `list` data type is suitable for some situations, however, it is more common to use `numpy arrays`. Some examples are shown below:\n"
   ]
  }
 ],
 "metadata": {
  "interpreter": {
   "hash": "b3ba2566441a7c06988d0923437866b63cedc61552a5af99d1f4fb67d367b25f"
  },
  "kernelspec": {
   "display_name": "Python 3.8.3 ('base')",
   "language": "python",
   "name": "python3"
  },
  "language_info": {
   "name": "python",
   "version": "3.8.3"
  },
  "orig_nbformat": 4
 },
 "nbformat": 4,
 "nbformat_minor": 2
}
